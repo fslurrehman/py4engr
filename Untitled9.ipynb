{
 "cells": [
  {
   "cell_type": "markdown",
   "metadata": {
    "graffitiCellId": "id_y2mgebn"
   },
   "source": [
    "<span class=\"graffiti-highlight graffiti-id_y2mgebn-id_iy9iyef\"><i></i><button>Hide Solution</button></span>"
   ]
  },
  {
   "cell_type": "code",
   "execution_count": null,
   "metadata": {
    "graffitiCellId": "id_iy9iyef"
   },
   "outputs": [],
   "source": [
    "print(\"hello world\")"
   ]
  },
  {
   "cell_type": "markdown",
   "metadata": {
    "graffitiCellId": "id_26sy5du"
   },
   "source": [
    "<span class=\"graffiti-highlight graffiti-id_26sy5du-id_6f154gv\"><i></i><button>Explain</button></span>"
   ]
  },
  {
   "cell_type": "code",
   "execution_count": null,
   "metadata": {
    "graffitiCellId": "id_9adhmyr"
   },
   "outputs": [],
   "source": []
  },
  {
   "cell_type": "code",
   "execution_count": null,
   "metadata": {
    "graffitiCellId": "id_mqhc4l0"
   },
   "outputs": [],
   "source": [
    "print(\"hello world\")"
   ]
  },
  {
   "cell_type": "code",
   "execution_count": 116,
   "metadata": {
    "graffitiCellId": "id_1t8lkbd",
    "graffitiConfig": {
     "executeCellViaGraffiti": "cold3rr_5v8hjd2"
    }
   },
   "outputs": [
    {
     "name": "stdout",
     "output_type": "stream",
     "text": [
      "hello world\n"
     ]
    },
    {
     "ename": "NameError",
     "evalue": "name 'ls' is not defined",
     "output_type": "error",
     "traceback": [
      "\u001b[0;31m---------------------------------------------------------------------------\u001b[0m",
      "\u001b[0;31mNameError\u001b[0m                                 Traceback (most recent call last)",
      "\u001b[0;32m<ipython-input-116-c676b3905063>\u001b[0m in \u001b[0;36m<module>\u001b[0;34m\u001b[0m\n\u001b[1;32m      3\u001b[0m \u001b[0;31m#\u001b[0m\u001b[0;34m\u001b[0m\u001b[0;34m\u001b[0m\u001b[0;34m\u001b[0m\u001b[0m\n\u001b[1;32m      4\u001b[0m \u001b[0mprint\u001b[0m\u001b[0;34m(\u001b[0m\u001b[0;34m\"hello world\"\u001b[0m\u001b[0;34m)\u001b[0m\u001b[0;34m\u001b[0m\u001b[0;34m\u001b[0m\u001b[0m\n\u001b[0;32m----> 5\u001b[0;31m \u001b[0mls\u001b[0m\u001b[0;34m\u001b[0m\u001b[0;34m\u001b[0m\u001b[0m\n\u001b[0m",
      "\u001b[0;31mNameError\u001b[0m: name 'ls' is not defined"
     ]
    }
   ],
   "source": [
    "#\n",
    "# Paste code here. It will execute the command associated with the button when shift-enter is pressed.\n",
    "#\n",
    "print(\"hello world\")\n",
    "ls\n"
   ]
  },
  {
   "cell_type": "markdown",
   "metadata": {
    "graffitiCellId": "id_atj1po6",
    "graffitiConfig": {
     "rows": 6,
     "terminalId": "id_q1ayof3",
     "type": "terminal"
    }
   },
   "source": [
    "<i>Loading terminal (id_atj1po6), please wait...</i>"
   ]
  },
  {
   "cell_type": "markdown",
   "metadata": {
    "graffitiCellId": "id_cold3rr"
   },
   "source": [
    "<span class=\"graffiti-highlight graffiti-id_cold3rr-id_5v8hjd2\"><i></i><button>Run Code</button></span>"
   ]
  },
  {
   "cell_type": "markdown",
   "metadata": {
    "graffitiCellId": "id_jsquip0"
   },
   "source": [
    "<span class=\"graffiti-highlight graffiti-id_jsquip0-id_fhiskdw\"><i></i><button>Graffiti Sample Button (edit me)</button></span>"
   ]
  },
  {
   "cell_type": "code",
   "execution_count": null,
   "metadata": {
    "graffitiCellId": "id_csbvtc2",
    "graffitiConfig": {
     "executeCellViaGraffiti": "wnmudyf_r7zkshf"
    }
   },
   "outputs": [],
   "source": [
    "#\n",
    "# Paste code here. It will execute the command associated with the button when shift-enter is pressed.\n",
    "#\n"
   ]
  },
  {
   "cell_type": "markdown",
   "metadata": {
    "graffitiCellId": "id_xirjlgm",
    "graffitiConfig": {
     "rows": 6,
     "terminalId": "id_xirjlgm",
     "type": "terminal"
    }
   },
   "source": [
    "<i>Loading terminal (id_xirjlgm), please wait...</i>"
   ]
  },
  {
   "cell_type": "markdown",
   "metadata": {
    "graffitiCellId": "id_wnmudyf"
   },
   "source": [
    "<span class=\"graffiti-highlight graffiti-id_wnmudyf-id_r7zkshf\"><i></i><button>Run Code</button></span>"
   ]
  },
  {
   "cell_type": "markdown",
   "metadata": {
    "graffitiCellId": "id_63rzovc"
   },
   "source": [
    "<span class=\"graffiti-highlight graffiti-id_63rzovc-id_6pv2vok\"><i></i><button>Show Solution</button></span>"
   ]
  },
  {
   "cell_type": "code",
   "execution_count": null,
   "metadata": {
    "graffitiCellId": "id_ucxvnrx",
    "graffitiConfig": {
     "executeCellViaGraffiti": "65j4v1b_rl6gryo"
    }
   },
   "outputs": [],
   "source": [
    "#\n",
    "# Paste code here. It will execute the command associated with the button when shift-enter is pressed.\n",
    "#\n"
   ]
  },
  {
   "cell_type": "markdown",
   "metadata": {
    "graffitiCellId": "id_d33a065",
    "graffitiConfig": {
     "rows": 6,
     "terminalId": "id_bns1k1u",
     "type": "terminal"
    }
   },
   "source": [
    "<i>Loading terminal (id_d33a065), please wait...</i>"
   ]
  },
  {
   "cell_type": "markdown",
   "metadata": {
    "graffitiCellId": "id_65j4v1b"
   },
   "source": [
    "<span class=\"graffiti-highlight graffiti-id_65j4v1b-id_rl6gryo\"><i></i><button>Run Code</button></span>"
   ]
  },
  {
   "cell_type": "markdown",
   "metadata": {
    "graffitiCellId": "id_t6hm1s0",
    "graffitiConfig": {
     "rows": 6,
     "terminalId": "id_t6hm1s0",
     "type": "terminal"
    }
   },
   "source": [
    "<i>Loading terminal (id_t6hm1s0), please wait...</i>"
   ]
  },
  {
   "cell_type": "code",
   "execution_count": null,
   "metadata": {
    "graffitiCellId": "id_7f26p3c"
   },
   "outputs": [],
   "source": [
    "print(\"hello world\")"
   ]
  },
  {
   "cell_type": "markdown",
   "metadata": {
    "graffitiCellId": "id_66bg01c"
   },
   "source": [
    "<span class=\"graffiti-highlight graffiti-id_66bg01c-id_i4q09c0\"><i></i><button>Explain</button></span>"
   ]
  },
  {
   "cell_type": "code",
   "execution_count": null,
   "metadata": {
    "graffitiCellId": "id_8k81l1e"
   },
   "outputs": [],
   "source": []
  }
 ],
 "metadata": {
  "graffiti": {
   "firstAuthorId": "dev",
   "id": "id_2wdi1qz",
   "language": "EN"
  },
  "kernelspec": {
   "display_name": "Python 3",
   "language": "python",
   "name": "python3"
  },
  "language_info": {
   "codemirror_mode": {
    "name": "ipython",
    "version": 3
   },
   "file_extension": ".py",
   "mimetype": "text/x-python",
   "name": "python",
   "nbconvert_exporter": "python",
   "pygments_lexer": "ipython3",
   "version": "3.9.4"
  }
 },
 "nbformat": 4,
 "nbformat_minor": 4
}
